{
  "cells": [
    {
      "cell_type": "markdown",
      "metadata": {
        "id": "JlmlsXK-TZKT"
      },
      "source": [
        "# Load and Preprocess the Dataset and Train Modal"
      ]
    },
    {
      "cell_type": "code",
      "execution_count": null,
      "metadata": {
        "colab": {
          "base_uri": "https://localhost:8080/"
        },
        "id": "FYWoGJO2TUdm",
        "outputId": "dd01a5cd-83b2-4405-8818-654921adee41"
      },
      "outputs": [
        {
          "ename": "",
          "evalue": "",
          "output_type": "error",
          "traceback": [
            "\u001b[1;31mRunning cells with 'Python 3.13.2' requires the ipykernel package.\n",
            "\u001b[1;31mRun the following command to install 'ipykernel' into the Python environment. \n",
            "\u001b[1;31mCommand: '/opt/homebrew/bin/python3 -m pip install ipykernel -U --user --force-reinstall'"
          ]
        }
      ],
      "source": [
        "!pip install xgboost\n",
        "\n",
        "import pandas as pd\n",
        "import numpy as np\n",
        "import matplotlib.pyplot as plt\n",
        "from sklearn.model_selection import train_test_split\n",
        "from sklearn.metrics import mean_squared_error, r2_score\n",
        "from xgboost import XGBRegressor\n",
        "from sklearn.impute import SimpleImputer\n",
        "from sklearn.model_selection import cross_val_score\n",
        "from sklearn.model_selection import GridSearchCV\n",
        "from xgboost import plot_importance\n",
        "from sklearn.preprocessing import LabelEncoder, StandardScaler\n",
        "from google.colab import drive\n",
        "\n",
        "\n",
        "csv_file = './Data/Sleep_health_and_lifestyle_dataset2.csv'\n",
        "\n",
        "# data = pd.read_csv('Sleep_health_and_lifestyle_dataset2.csv')\n",
        "data = pd.read_csv(csv_file)\n",
        "\n",
        "data.columns = data.columns.str.strip()\n",
        "\n",
        "print(data.columns)\n",
        "\n",
        "data['Stress_Level'].fillna('Low')\n",
        "\n",
        "numerical_columns = ['Technology_Usage_Hours', 'Social_Media_Usage_Hours', 'Gaming_Hours',\n",
        "                     'Screen_Time_Hours', 'Sleep_Hours', 'Physical_Activity_Hours']\n",
        "\n",
        "imputer = SimpleImputer(strategy='mean')\n",
        "data[numerical_columns] = imputer.fit_transform(data[numerical_columns])\n",
        "\n",
        "\n",
        "\n",
        "data['Optimal_Bedtime_Duration'] = np.where(data['Age'] <= 30, 8, 7)\n",
        "\n",
        "\n",
        "data = pd.get_dummies(data, drop_first=True)\n",
        "\n",
        "columns_to_drop = ['User_ID', 'Mental_Health_Status']\n",
        "existing_columns = [col for col in columns_to_drop if col in data.columns]\n",
        "\n",
        "X = data.drop(columns=existing_columns)\n",
        "y = data['Optimal_Bedtime_Duration']\n",
        "\n",
        "X_train, X_test, y_train, y_test = train_test_split(X, y, test_size=0.2, random_state=42)\n",
        "\n",
        "model = XGBRegressor(\n",
        "    objective='reg:squarederror',\n",
        "    random_state=42,\n",
        "    n_estimators=500,\n",
        "    learning_rate=0.01,\n",
        "    max_depth=5,\n",
        "    alpha=0.1,\n",
        "    reg_lambda=0.1,\n",
        "    subsample=0.8,\n",
        "    colsample_bytree=0.8\n",
        ")\n",
        "\n",
        "model.fit(X_train, y_train)\n",
        "\n",
        "y_pred = model.predict(X_test)\n",
        "\n",
        "mse = mean_squared_error(y_test, y_pred)\n",
        "r2 = r2_score(y_test, y_pred)\n",
        "\n",
        "print(f'Mean Squared Error: {mse}')\n",
        "print(f'R-squared: {r2}')\n"
      ]
    },
    {
      "cell_type": "markdown",
      "metadata": {
        "id": "_JflevUwTkb4"
      },
      "source": [
        "# Predict Optimal Bedtime Pattern"
      ]
    },
    {
      "cell_type": "code",
      "execution_count": 2,
      "metadata": {
        "colab": {
          "base_uri": "https://localhost:8080/"
        },
        "id": "v5jEtZ8WTl6I",
        "outputId": "578b1e55-8a40-47a0-f85e-d0a43e04ba26"
      },
      "outputs": [
        {
          "name": "stdout",
          "output_type": "stream",
          "text": [
            "Predicted Optimal Bedtime Duration: 7.807015419006348 hours\n"
          ]
        }
      ],
      "source": [
        "user_input = {\n",
        "    'Age': 17,\n",
        "    'Gender_Male': 1,\n",
        "    'Gender_Female': 0,\n",
        "    'Work_Environment_Impact_Neutral': 1,\n",
        "    'Work_Environment_Impact_Positive': 0,\n",
        "    'Physical_Activity_Hours': 6.35,\n",
        "    'Stress_Level': 6,\n",
        "    'BMI_Category_Overweight': 1,\n",
        "    'BMI_Category_Underweight': 0,\n",
        "    'Technology_Usage_Hours': 2,\n",
        "    'Social_Media_Usage_Hours': 1.5,\n",
        "    'Gaming_Hours': 0,\n",
        "    'Screen_Time_Hours': 0,\n",
        "    'Sleep_Hours': 0\n",
        "}\n",
        "\n",
        "user_input_df = pd.DataFrame([user_input])\n",
        "\n",
        "missing_columns = [col for col in X.columns if col not in user_input_df.columns]\n",
        "\n",
        "if missing_columns:\n",
        "    missing_df = pd.DataFrame(0, index=user_input_df.index, columns=missing_columns)\n",
        "    user_input_df = pd.concat([user_input_df, missing_df], axis=1)\n",
        "\n",
        "user_input_df = user_input_df[X.columns]\n",
        "\n",
        "predicted_bedtime_duration = model.predict(user_input_df)\n",
        "\n",
        "print(f'Predicted Optimal Bedtime Duration: {predicted_bedtime_duration[0]} hours')\n"
      ]
    }
  ],
  "metadata": {
    "colab": {
      "provenance": [],
      "toc_visible": true
    },
    "kernelspec": {
      "display_name": "Python 3",
      "name": "python3"
    },
    "language_info": {
      "name": "python",
      "version": "3.13.2"
    }
  },
  "nbformat": 4,
  "nbformat_minor": 0
}
